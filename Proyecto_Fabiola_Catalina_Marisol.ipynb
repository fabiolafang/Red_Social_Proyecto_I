{
 "cells": [
  {
   "cell_type": "markdown",
   "id": "26554ecb-a0dc-4266-8394-1dbc030cb65f",
   "metadata": {},
   "source": [
    "**XS 0130 | Programación para Estadística II**\n",
    "\n",
    "**Proyecto 01**\n",
    "\n",
    "**Estudiantes:**\n",
    "Fabiola Fang, Catalina Monge & Marisol Quesada\n",
    "\n",
    "**Tema:**\n",
    "Simulador de una red social"
   ]
  },
  {
   "cell_type": "code",
   "execution_count": null,
   "id": "f119c856-c9d3-4350-9ad0-52c91cf7702e",
   "metadata": {},
   "outputs": [],
   "source": []
  }
 ],
 "metadata": {
  "kernelspec": {
   "display_name": "Python [conda env:base] *",
   "language": "python",
   "name": "conda-base-py"
  },
  "language_info": {
   "codemirror_mode": {
    "name": "ipython",
    "version": 3
   },
   "file_extension": ".py",
   "mimetype": "text/x-python",
   "name": "python",
   "nbconvert_exporter": "python",
   "pygments_lexer": "ipython3",
   "version": "3.13.5"
  }
 },
 "nbformat": 4,
 "nbformat_minor": 5
}

import pandas as pd
import random


# Elementos fundamentales de una red social: usuarios, publicaciones y la capaciad de interactuar mediante comentarios

# Usuarios

class Usuario:
    def __init__(self, username):
        self.username = username
        self.amix = set() #para que no se repitan
        self.posteos = [] #en una lista para que funcione como objeto modificabke
    def _str_(self):
        return f"Usuario: {self.username} | Amistades: {len(self.amix)} | Publicaciones: {len(self.posteos)}"

# Antes de definir la capacidad de comentar, se determina cómo se espera que sea un comentario


class Comentario:
    def __init__(self, username, mensaje):
        self.username = username
        self.mensaje = mensaje
    def _str_(self):
        return f"{self.username}: {self.mensaje}"

# Publicaciones

class Post:
    def __init__(self, id_pub, username, contenido):
        self.id = id_pub # según df generado
        self.username = username
        self.contenido = contenido
        self.likes = set() #para que no se pueda dar más de un like
        self.comentarios = [] #nuevamente propiedad mutable de la lista
    def likear(self, username): 
        self.likes.add(username) #añade likes contemplando quién lo dio para no repitir
    def comentar(self, comentario):
        self.comentarios.append(comentario) #añade comentarios

    def _str_(self):
        return f"({self.id}) {self.username}: {self.contenido} | Likes: {len(self.likes)} | Comentarios: {len(self.comentarios)}"

#esta última devuelve un resumen por publicación

# Importar la base de datos: creada artificialmente y posteriormente personalizada

# Se realiza como una función para poder añadir comandos que permitan manipular la base y no solo cargarla

def importar(archivo_excel):
    df = pd.read_excel(archivo_excel) #se pone el nombre del archivo como argumento
    users_df = {} #más eficiente al asociarse a una clave única, previene duplicados
    post_df = {}
    contador_posts = 0 #vacio

    # Crear usuarios
    for usuario in df["usuario"].dropna().unique(): #verficar que todos los usuarios sean únicos y no hayan comments/post sin autor
        if usuario not in users_df:
            users_df[usuario] = Usuario(usuario) #la posibilidad de crear un perfil nuevo

    # Crear publicaciones
    publicaciones = df[df["tipo"] == "publicacion"]
    for _, row in publicaciones.iterrows(): #procesar cada fila individualmente 
        pub = Post(row["id"], row["usuario"], row["contenido"])
        post_df[pub.id] = pub #se agrega publicación con respectivo id al df
        users_df[row["usuario"]].posteos.append(pub) #se le asigna el usuario
        contador_posts = max(contador_posts, row["id"]) #actualiza el contador del id

    # Crear amistades
    amistades = df[df["tipo"] == "amigo"]
    for _, row in amistades.iterrows():
        u1, u2 = row["usuario"], row["amigo"] #comparar dos usuarios 
        if u1 in users_df and u2 in users_df:
            users_df[u1].amix.add(users_df[u2])
            users_df[u2].amix.add(users_df[u1])

    # Agregar comentarios
    comentarios = df[df["tipo"] == "comentario"]
    for _, row in comentarios.iterrows():
        comentario = Comentario(row["usuario"], row["contenido"])
        if row["pub_id"] in post_df:
            post_df[row["pub_id"]].comentar(comentario) 

    # Agregar likes
    likes = df[df["tipo"] == "like"]
    for _, row in likes.iterrows():
        if row["pub_id"] in post_df:
            post_df[row["pub_id"]].likear(row["usuario"])

    return users_df, post_df, contador_posts



# Funciones para el menú interactivo


def menu_usuario(persona, post_df):
    print(f"\n~~ Este es el perfil del usuario {persona.username} ~~ ")
    print("Amistades")
    for x in persona.amix:
        print(" -", x.username)
    print("Publicaciones")
    for i in persona.posteos:
        print(" -", i)
    print("Comentarios recibidos:")
    for p in persona.posteos:
        for c in p.comentarios: 
            print(f"En la publicación ({p.id}): se han recibido los comentarios {c}")
    print("Likes recibidos:")
    for l in persona.posteos:
        print(f"La publicación ({l.id}): tiene {len(l.likes)} likes")


def menu_registrar_usuario(users_df):
    nombre = input("Ingresa tu nombre de usuario")
    if nombre in users_df:
        print("Esta cuenta ya existe") #verifica si ya existe. Si no, da la posibilidad de creardo
        return
    users_df[nombre] = Usuario(nombre)
    print(f"Usuario {nombre} registrado con éxito")


def menu_crear_publicacion(persona, post_df, contador_posts):
    post = input("¿Qué quieres publicar?")
    contador_posts += 1
    p = Post(contador_posts, persona.username, post) #clase arriba
    post_df[contador_posts] = p #asigna post a todoas las pubicaciones en general
    persona.posteos.append(p) #identifca el quien
    print("Publicación realizada")
    return contador_posts #para que se pueda volver a utilizar
