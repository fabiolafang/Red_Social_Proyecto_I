{
 "cells": [
  {
   "cell_type": "markdown",
   "id": "26554ecb-a0dc-4266-8394-1dbc030cb65f",
   "metadata": {},
   "source": [
    "**XS 0130 | Programación para Estadística II**\n",
    "\n",
    "**Proyecto 01**\n",
    "\n",
    "**Estudiantes:**\n",
    "Fabiola Fang, Catalina Monge & Marisol Quesada\n",
    "\n",
    "**Tema:**\n",
    "Simulador d"
   ]
  },
  {
   "cell_type": "code",
   "execution_count": null,
   "id": "f119c856-c9d3-4350-9ad0-52c91cf7702e",
   "metadata": {},
   "outputs": [],
   "source": []
  }
 ],
 "metadata": {
  "kernelspec": {
   "display_name": "Python [conda env:base] *",
   "language": "python",
   "name": "conda-base-py"
  },
  "language_info": {
   "codemirror_mode": {
    "name": "ipython",
    "version": 3
   },
   "file_extension": ".py",
   "mimetype": "text/x-python",
   "name": "python",
   "nbconvert_exporter": "python",
   "pygments_lexer": "ipython3",
   "version": "3.13.5"
  }
 },
 "nbformat": 4,
 "nbformat_minor": 5
}
